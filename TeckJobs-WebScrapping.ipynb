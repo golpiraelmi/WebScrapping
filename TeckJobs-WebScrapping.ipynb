{
 "cells": [
  {
   "cell_type": "code",
   "execution_count": 1,
   "metadata": {},
   "outputs": [
    {
     "name": "stdout",
     "output_type": "stream",
     "text": [
      "Email Successfully Sent\n"
     ]
    }
   ],
   "source": [
    "import requests\n",
    "from bs4 import BeautifulSoup as bs\n",
    "import pandas as pd\n",
    "import matplotlib.pyplot as plt\n",
    "import seaborn as sns\n",
    "from email.mime.application import MIMEApplication\n",
    "from email.mime.multipart import MIMEMultipart\n",
    "from email.mime.text import MIMEText\n",
    "import smtplib\n",
    "from pretty_html_table import build_table\n",
    "import os\n",
    "\n",
    "jobs=[]\n",
    "html_contents=[]\n",
    "page_nums=['desc', 'desc&startrow=25', 'desc&startrow=50', 'desc&startrow=75']\n",
    "for page_num in page_nums: #change depending on max page\n",
    "    URL = 'https://jobs.teck.com/search/?q=&sortColumn=referencedate&sortDirection=' + page_num\n",
    "    html_contents.append(requests.get(URL).text) \n",
    "    \n",
    "for html in html_contents:\n",
    "    soup = bs(html, \"lxml\")\n",
    "    table = soup.tbody\n",
    "    rows = table.find_all('tr')\n",
    "    \n",
    "    for row in rows:\n",
    "        cols = row.find_all('td')\n",
    "        cols = [ele.text.strip() for ele in cols]\n",
    "        jobs.append(cols) \n",
    "        df = pd.DataFrame(jobs)\n",
    "df[0]=df[0].str.split('\\n\\n\\n\\n', expand=True)\n",
    "\n",
    "df.rename(columns={0:'Title', 1: 'Location', 2: 'Posting_Date', 3:'Empty'}, inplace=True)\n",
    "df.drop('Empty', axis='columns', inplace=True)\n",
    "jobs = df[df['Title'].str.contains(\"RACE21\" and \"Data\")].reset_index(drop=True)\n",
    "\n",
    "# Created environmental variables to hide my username and password\n",
    "username = os.environ.get('GMAIL_USERNAME')\n",
    "password = os.environ.get('GMAIL_PASSWORD')\n",
    "\n",
    "# Sending the email\n",
    "msg = MIMEMultipart()\n",
    "\n",
    "msg['From'] = os.environ.get('GMAIL_ADDRESS')   #glp.elmi@gmail.com\n",
    "msg['To'] = os.environ.get('GMAIL_TO_ADDRESS')  # elmi.golpira@gmail.com\n",
    "msg['subject'] = 'Teck Jobs'\n",
    "\n",
    "output = build_table(jobs, 'orange_light')\n",
    "body = \"Here are the jobs you might be interested in!\"\n",
    "\n",
    "msg.attach(MIMEText(body,'plain'))\n",
    "msg.attach(MIMEText(output,'html'))\n",
    "\n",
    "server = smtplib.SMTP('smtp.gmail.com', 587)  \n",
    "server.ehlo()\n",
    "server.starttls()\n",
    "server.login(username, password)  \n",
    "\n",
    "server.sendmail(msg['From'], msg['To'], msg.as_string())  \n",
    "\n",
    "# server.send_mail(output)\n",
    "server.quit()\n",
    "\n",
    "print (\"Email Successfully Sent\")"
   ]
  },
  {
   "cell_type": "code",
   "execution_count": null,
   "metadata": {},
   "outputs": [],
   "source": []
  }
 ],
 "metadata": {
  "kernelspec": {
   "display_name": "Python 3",
   "language": "python",
   "name": "python3"
  },
  "language_info": {
   "codemirror_mode": {
    "name": "ipython",
    "version": 3
   },
   "file_extension": ".py",
   "mimetype": "text/x-python",
   "name": "python",
   "nbconvert_exporter": "python",
   "pygments_lexer": "ipython3",
   "version": "3.7.4"
  }
 },
 "nbformat": 4,
 "nbformat_minor": 2
}
